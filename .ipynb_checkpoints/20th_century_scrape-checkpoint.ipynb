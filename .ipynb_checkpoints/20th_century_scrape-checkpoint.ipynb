{
 "cells": [
  {
   "cell_type": "markdown",
   "id": "4ee4f370-eb01-4b33-8c67-5ddda4f565ca",
   "metadata": {},
   "source": [
    "# Task 1.4 Accessing Web Data with Data Scraping\n",
    "###  1. Import Libraries\n",
    "###  2. Install ChromeDriver\n",
    "###  3. Scraping content of Key Events of the 20th Century page\n",
    "###  4. Save page content as TXT"
   ]
  },
  {
   "cell_type": "markdown",
   "id": "ae060670-8d93-4568-ad64-319b35de3fb1",
   "metadata": {},
   "source": [
    "## 1. Importing Libraries"
   ]
  },
  {
   "cell_type": "code",
   "execution_count": 13,
   "id": "591dc5ff-2201-44fd-92df-07b6f41627fd",
   "metadata": {},
   "outputs": [],
   "source": [
    "# Import libraries\n",
    "from selenium import webdriver\n",
    "from selenium.webdriver.chrome.options import Options\n",
    "from bs4 import BeautifulSoup"
   ]
  },
  {
   "cell_type": "markdown",
   "id": "754df3b3-93eb-4f47-93ba-082fd427ee3f",
   "metadata": {},
   "source": [
    "## 2. Install ChromeDriver"
   ]
  },
  {
   "cell_type": "code",
   "execution_count": 14,
   "id": "94ea7cf7-890e-4e16-8d86-b68907d147c8",
   "metadata": {},
   "outputs": [],
   "source": [
    "# Setup Chrome Options\n",
    "chrome_options = webdriver.ChromeOptions()"
   ]
  },
  {
   "cell_type": "code",
   "execution_count": 15,
   "id": "6a51b71b-6fd2-4699-a901-54a57e83998d",
   "metadata": {},
   "outputs": [],
   "source": [
    "# Setup chrome options cont.\n",
    "\n",
    "chrome_options = Options()\n",
    "chrome_options.add_argument(\"--headless\") # Ensure GUI is off\n",
    "chrome_options.add_argument(\"--no-sandbox\")"
   ]
  },
  {
   "cell_type": "code",
   "execution_count": 16,
   "id": "89e2cde1-c238-4321-abc6-6056c67dbe43",
   "metadata": {},
   "outputs": [],
   "source": [
    "driver = webdriver.Chrome(executable_path=\"./chromedriver\", options=chrome_options)"
   ]
  },
  {
   "cell_type": "markdown",
   "id": "86668e58-988a-4da8-9b6d-7786e0b7c3e7",
   "metadata": {},
   "source": [
    "## 3. Scraping Key events of the 20th century Wiki page using selenium"
   ]
  },
  {
   "cell_type": "code",
   "execution_count": 17,
   "id": "c866f91d-6b66-4e7f-8036-730df4682cef",
   "metadata": {},
   "outputs": [],
   "source": [
    "# Get the page's contents\n",
    "Wiki_url = \"https://en.wikipedia.org/wiki/Key_events_of_the_20th_century\"\n",
    "driver.get(Wiki_url)"
   ]
  },
  {
   "cell_type": "code",
   "execution_count": 18,
   "id": "48c43911-4e16-4bc5-9644-6fe6520ce31c",
   "metadata": {},
   "outputs": [],
   "source": [
    "# Get all \"page source\"\n",
    "html = driver.page_source\n"
   ]
  },
  {
   "cell_type": "code",
   "execution_count": 19,
   "id": "a69707df-e854-464b-8784-d9b0f65f5168",
   "metadata": {},
   "outputs": [],
   "source": [
    "# Parcing HTML info\n",
    "soup = BeautifulSoup (html,\"html.parser\")\n",
    "text = soup.get_text()  # This is the FULL text from the page, including irrelevant noise"
   ]
  },
  {
   "cell_type": "code",
   "execution_count": 20,
   "id": "7ed5ee2d-fb39-4120-a7c8-2fb8730f2800",
   "metadata": {},
   "outputs": [],
   "source": [
    "body_content = soup.find(id=\"bodyContent\")\n",
    "text2 = body_content.get_text()  # Only text from the \"bodyContent\" section of the page"
   ]
  },
  {
   "cell_type": "markdown",
   "id": "4ecb055a-f0af-4964-870c-7f06841a684e",
   "metadata": {},
   "source": [
    "## 4. Save page content as TXT"
   ]
  },
  {
   "cell_type": "code",
   "execution_count": 22,
   "id": "6dbc3053-1aa8-48f6-b39f-6752117d5dee",
   "metadata": {},
   "outputs": [],
   "source": [
    "# Save html content\n",
    "fp = open(\"20th_century_scrape.txt\", \"w\")\n",
    "fp.write(text2)\n",
    "fp.close()"
   ]
  }
 ],
 "metadata": {
  "kernelspec": {
   "display_name": "Python [conda env:20th_century] *",
   "language": "python",
   "name": "conda-env-20th_century-py"
  },
  "language_info": {
   "codemirror_mode": {
    "name": "ipython",
    "version": 3
   },
   "file_extension": ".py",
   "mimetype": "text/x-python",
   "name": "python",
   "nbconvert_exporter": "python",
   "pygments_lexer": "ipython3",
   "version": "3.12.6"
  }
 },
 "nbformat": 4,
 "nbformat_minor": 5
}
